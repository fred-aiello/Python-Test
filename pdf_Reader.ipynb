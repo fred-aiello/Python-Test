{
 "cells": [
  {
   "cell_type": "code",
   "execution_count": null,
   "id": "a4fea316-1f3d-4899-ac18-770df496d37e",
   "metadata": {},
   "outputs": [],
   "source": [
    "import PyPDF2\n",
    "pdf = open(\"Aman.pdf\", \"rb\")\n",
    "reader = PyPDF2.PdfFileReader(pdf)\n",
    "page = reader.getPage(0)\n",
    "print(page.extractText())"
   ]
  }
 ],
 "metadata": {
  "kernelspec": {
   "display_name": "pdf_reader",
   "language": "python",
   "name": "pdf_reader"
  },
  "language_info": {
   "codemirror_mode": {
    "name": "ipython",
    "version": 3
   },
   "file_extension": ".py",
   "mimetype": "text/x-python",
   "name": "python",
   "nbconvert_exporter": "python",
   "pygments_lexer": "ipython3",
   "version": "3.9.7"
  }
 },
 "nbformat": 4,
 "nbformat_minor": 5
}
