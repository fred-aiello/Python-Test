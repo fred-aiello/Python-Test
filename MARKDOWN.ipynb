{
 "cells": [
  {
   "cell_type": "markdown",
   "id": "4e7f2daf-1633-4a49-b25c-cbdceabe0781",
   "metadata": {},
   "source": [
    "# MARKDOWN EXPRESSIONS\n",
    "---\n",
    "___\n",
    "[Clik me](https://medium.com/analytics-vidhya/the-ultimate-markdown-guide-for-jupyter-notebook-d5e5abf728fd)\n",
    "***"
   ]
  },
  {
   "cell_type": "markdown",
   "id": "262b889a-0372-4aec-a80e-c0c2204d10d5",
   "metadata": {
    "tags": []
   },
   "source": [
    "# ________________"
   ]
  },
  {
   "cell_type": "markdown",
   "id": "cc4c58fe-fb5a-4379-8c34-78de405a5cc2",
   "metadata": {},
   "source": [
    "Thick Line\n",
    "# ___\n",
    "https://www.codearmo.com/blog/sharpe-sortino-and-calmar-ratios-python\n",
    "Thin line\n",
    "---\n",
    "\n",
    "_This is italic text_\n",
    "\n",
    "> This is a blockquote"
   ]
  },
  {
   "cell_type": "markdown",
   "id": "914a1543-ad78-4cd6-ba9a-1f6cf28ed476",
   "metadata": {},
   "source": [
    "> some text\n",
    ">> and then some more text\n",
    ">>> and then some more"
   ]
  },
  {
   "cell_type": "markdown",
   "id": "c165ddf6-fc61-40d1-bfd7-43e7009a312e",
   "metadata": {},
   "source": [
    "**This is bold text**  \n",
    "__This is bold text__\n",
    "\n",
    "***Bold and Italic***  \n",
    "___Bold and Italic___"
   ]
  },
  {
   "cell_type": "markdown",
   "id": "64673cd2-47a3-44a8-b742-4188ede9af4d",
   "metadata": {},
   "source": [
    "~~Scratch this~~"
   ]
  },
  {
   "cell_type": "markdown",
   "id": "80098d43-c6f6-492c-8631-23fed4f53159",
   "metadata": {},
   "source": [
    "![][some]\n",
    "[some](https://www.python.org/static/community_logos/python-logo-master-v3-TM.png \"Python logo\")"
   ]
  },
  {
   "cell_type": "markdown",
   "id": "d4682fe8-0d62-4a1a-8ad7-4cd382485769",
   "metadata": {},
   "source": [
    "This is [a reference][id]\n",
    "\n",
    "[id]: https://en.wikipedia.org \"Wikipedia\""
   ]
  },
  {
   "cell_type": "markdown",
   "id": "e4591e81-160a-478a-b95a-4d251357e4f8",
   "metadata": {},
   "source": [
    "# LaTexMATH\n",
    "\n",
    "[source](https://linuxhint.com/use-latex-jupyter-notebook/)"
   ]
  },
  {
   "cell_type": "markdown",
   "id": "b57735f9-bcc7-470f-94c3-dac137b10dcc",
   "metadata": {},
   "source": [
    "$\\sqrt{k}$"
   ]
  },
  {
   "cell_type": "markdown",
   "id": "f4bdc8d3-3915-4488-89b2-54fd82dd098a",
   "metadata": {},
   "source": []
  }
 ],
 "metadata": {
  "kernelspec": {
   "display_name": "Python 3",
   "language": "python",
   "name": "python3"
  },
  "language_info": {
   "codemirror_mode": {
    "name": "ipython",
    "version": 3
   },
   "file_extension": ".py",
   "mimetype": "text/x-python",
   "name": "python",
   "nbconvert_exporter": "python",
   "pygments_lexer": "ipython3",
   "version": "3.9.7"
  }
 },
 "nbformat": 4,
 "nbformat_minor": 5
}
