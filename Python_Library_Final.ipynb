{
 "cells": [
  {
   "cell_type": "markdown",
   "metadata": {},
   "source": [
    "Enter this code lines in Anaconda prompt script to load the relevant packages (Not to be run in this Notebook)\n",
    "\n",
    "pip install pandas\n",
    "pip install numpy\n",
    "pip install yahoo-finance\n",
    "pip install quandl"
   ]
  },
  {
   "cell_type": "code",
   "execution_count": 2,
   "metadata": {},
   "outputs": [
    {
     "name": "stdout",
     "output_type": "stream",
     "text": [
      "         Date         Open         High          Low        Close  \\\n",
      "0  1997-01-02  2305.899902  2305.899902  2251.500000  2257.000000   \n",
      "1  1997-01-03  2265.600098  2285.500000  2259.500000  2282.800049   \n",
      "2  1997-01-06  2309.899902  2309.899902  2294.800049  2306.699951   \n",
      "3  1997-01-07  2301.399902  2315.300049  2294.000000  2301.699951   \n",
      "4  1997-01-08  2316.199951  2333.199951  2315.600098  2331.600098   \n",
      "\n",
      "     Adj Close  Volume  \n",
      "0  2257.000000     0.0  \n",
      "1  2282.800049     0.0  \n",
      "2  2306.699951     0.0  \n",
      "3  2301.699951     0.0  \n",
      "4  2331.600098     0.0  \n"
     ]
    }
   ],
   "source": [
    "import numpy as np\n",
    "import pandas as pd\n",
    "import os\n",
    "\n",
    "# Read data\n",
    "#Import csv file\n",
    "#Market_Data=pd.read_csv (r\"C:\\Users\\Hp\\OneDrive\\Documents\\Fred\\Python\\Data_Import\\^FCHI.csv\")\n",
    "\n",
    "#Import txt file\n",
    "\n",
    "listdirectory(r\"C:\\Users\\Hp\\OneDrive\\Documents\\Fred\\Python\")\n",
    "\n",
    "Market_Data=pd.read_csv (r\"C:\\Users\\Hp\\OneDrive\\Documents\\Fred\\Python\\Data_Import\\^FCHI.txt\")\n",
    "print (Market_Data.head())"
   ]
  },
  {
   "cell_type": "code",
   "execution_count": null,
   "metadata": {},
   "outputs": [],
   "source": []
  },
  {
   "cell_type": "code",
   "execution_count": 17,
   "metadata": {},
   "outputs": [
    {
     "data": {
      "text/plain": [
       "['.ipynb_checkpoints',\n",
       " '5-MNA-ROBO-ADVISOR.pdf',\n",
       " 'Currency_Test.ipynb',\n",
       " 'Curr_2.csv',\n",
       " 'Data_Import',\n",
       " 'Data_Manipulation.ipynb',\n",
       " 'Economistes.pdf',\n",
       " 'Finance.ipynb',\n",
       " 'Finance.txt',\n",
       " 'Import_data.ipynb',\n",
       " 'Library_Python.ipynb',\n",
       " 'Library_Python.txt',\n",
       " 'Python script.txt',\n",
       " 'Python.pdf',\n",
       " 'Python_Library_Final.ipynb',\n",
       " 'Replicating_Portfolio.pdf',\n",
       " 'T7_AP1.pdf',\n",
       " 'Test_Script.txt',\n",
       " '^FCHI.csv',\n",
       " '^FCHI.txt',\n",
       " '^FCHI_.txt']"
      ]
     },
     "execution_count": 17,
     "metadata": {},
     "output_type": "execute_result"
    }
   ],
   "source": [
    "#List des fichiers\n",
    "import os\n",
    "os.listdir(r\"C:\\Users\\Hp\\OneDrive\\Documents\\Fred\\Python\")\n"
   ]
  },
  {
   "cell_type": "code",
   "execution_count": 28,
   "metadata": {},
   "outputs": [
    {
     "name": "stdout",
     "output_type": "stream",
     "text": [
      "'.ipynb_checkpoints' est un dossier\n",
      "'Data_Import' est un dossier\n",
      "C:\\Users\\Hp\\OneDrive\\Documents\\Fred\\Python\\5-MNA-ROBO-ADVISOR.pdf\n",
      "C:\\Users\\Hp\\OneDrive\\Documents\\Fred\\Python\\Currency_Test.ipynb\n",
      "C:\\Users\\Hp\\OneDrive\\Documents\\Fred\\Python\\Curr_2.csv\n",
      "C:\\Users\\Hp\\OneDrive\\Documents\\Fred\\Python\\Data_Manipulation.ipynb\n",
      "C:\\Users\\Hp\\OneDrive\\Documents\\Fred\\Python\\Economistes.pdf\n",
      "C:\\Users\\Hp\\OneDrive\\Documents\\Fred\\Python\\Finance.ipynb\n",
      "C:\\Users\\Hp\\OneDrive\\Documents\\Fred\\Python\\Finance.txt\n",
      "C:\\Users\\Hp\\OneDrive\\Documents\\Fred\\Python\\Import_data.ipynb\n",
      "C:\\Users\\Hp\\OneDrive\\Documents\\Fred\\Python\\Library_Python.ipynb\n",
      "C:\\Users\\Hp\\OneDrive\\Documents\\Fred\\Python\\Library_Python.txt\n",
      "C:\\Users\\Hp\\OneDrive\\Documents\\Fred\\Python\\Python script.txt\n",
      "C:\\Users\\Hp\\OneDrive\\Documents\\Fred\\Python\\Python.pdf\n",
      "C:\\Users\\Hp\\OneDrive\\Documents\\Fred\\Python\\Python_Library_Final.ipynb\n",
      "C:\\Users\\Hp\\OneDrive\\Documents\\Fred\\Python\\Replicating_Portfolio.pdf\n",
      "C:\\Users\\Hp\\OneDrive\\Documents\\Fred\\Python\\T7_AP1.pdf\n",
      "C:\\Users\\Hp\\OneDrive\\Documents\\Fred\\Python\\Test_Script.txt\n",
      "C:\\Users\\Hp\\OneDrive\\Documents\\Fred\\Python\\^FCHI.csv\n",
      "C:\\Users\\Hp\\OneDrive\\Documents\\Fred\\Python\\^FCHI.txt\n",
      "C:\\Users\\Hp\\OneDrive\\Documents\\Fred\\Python\\^FCHI_.txt\n",
      "C:\\Users\\Hp\\OneDrive\\Documents\\Fred\\Python\\.ipynb_checkpoints\\Currency_Test-checkpoint.ipynb\n",
      "C:\\Users\\Hp\\OneDrive\\Documents\\Fred\\Python\\.ipynb_checkpoints\\Data_Manipulation-checkpoint.ipynb\n",
      "C:\\Users\\Hp\\OneDrive\\Documents\\Fred\\Python\\.ipynb_checkpoints\\Finance-checkpoint.ipynb\n",
      "C:\\Users\\Hp\\OneDrive\\Documents\\Fred\\Python\\.ipynb_checkpoints\\Import_data-checkpoint.ipynb\n",
      "C:\\Users\\Hp\\OneDrive\\Documents\\Fred\\Python\\.ipynb_checkpoints\\Library_Python-checkpoint.ipynb\n",
      "C:\\Users\\Hp\\OneDrive\\Documents\\Fred\\Python\\.ipynb_checkpoints\\Python_Library_Final-checkpoint.ipynb\n",
      "C:\\Users\\Hp\\OneDrive\\Documents\\Fred\\Python\\Data_Import\\AXA_SA_CS.PA.csv.txt\n",
      "C:\\Users\\Hp\\OneDrive\\Documents\\Fred\\Python\\Data_Import\\EURUSD=X.csv.txt\n",
      "C:\\Users\\Hp\\OneDrive\\Documents\\Fred\\Python\\Data_Import\\^FCHI.txt\n"
     ]
    }
   ],
   "source": [
    "#Arborescence 1ere méthode\n",
    "import os \n",
    "import pandas as pd\n",
    "\n",
    "folder_path = r\"C:\\Users\\Hp\\OneDrive\\Documents\\Fred\\Python\"\n",
    "\n",
    "Mega_File=[]\n",
    "\n",
    "for path, dirs, files in os.walk(folder_path):\n",
    "#Show folders names\n",
    "    for filename in dirs:\n",
    "        print(\"'%s' est un dossier\" % filename)   \n",
    "#Show files names\n",
    "    for i in files:\n",
    "        \n",
    "# df1 =os.path.join(path, i) \n",
    " #   print (df1)\n",
    "    #  Market_Data=pd.read_csv(r\"%s\" % os.path.join(path, i))\n",
    "       print(os.path.join(path, i))\n",
    "          \n",
    "   "
   ]
  },
  {
   "cell_type": "code",
   "execution_count": 39,
   "metadata": {},
   "outputs": [
    {
     "data": {
      "text/plain": [
       "['C:\\\\Users\\\\Hp\\\\OneDrive\\\\Documents\\\\Fred\\\\Python\\\\Data_Import\\\\AXA_SA_CS.PA.csv.txt',\n",
       " 'C:\\\\Users\\\\Hp\\\\OneDrive\\\\Documents\\\\Fred\\\\Python\\\\Data_Import\\\\EURUSD=X.csv.txt',\n",
       " 'C:\\\\Users\\\\Hp\\\\OneDrive\\\\Documents\\\\Fred\\\\Python\\\\Data_Import\\\\^FCHI.txt']"
      ]
     },
     "execution_count": 39,
     "metadata": {},
     "output_type": "execute_result"
    }
   ],
   "source": [
    "#Arboresence 2nd methode\n",
    "\n",
    "import os.path\n",
    "\n",
    "def listdirectory(path): \n",
    "\n",
    "    fichier=[] \n",
    "    \n",
    "    for root, dirs, files in os.walk(path): \n",
    "        for i in files: \n",
    "            fichier.append(os.path.join(root, i)) \n",
    "    return fichier\n",
    "\n",
    "listdirectory(r\"C:\\Users\\Hp\\OneDrive\\Documents\\Fred\\Python\\Data_Import\")"
   ]
  },
  {
   "cell_type": "code",
   "execution_count": 54,
   "metadata": {},
   "outputs": [
    {
     "name": "stdout",
     "output_type": "stream",
     "text": [
      "AXA_SA_CS.PA.csv.txt \n",
      "             Date     Open     High      Low    Close  Adj Close      Volume\n",
      "0     1997-01-02  11.9997  11.9997  11.7597  11.9997   0.937197   7910426.0\n",
      "1     1997-01-03  11.9997  12.2397  11.9997  11.9997   0.937197  12001101.0\n",
      "2     1997-01-06  12.2397  12.2397  12.2397  12.2397   0.955942  11695177.0\n",
      "3     1997-01-07  12.2397  12.4797  12.2397  12.4797   0.974686  19616370.0\n",
      "4     1997-01-08  12.4797  12.7197  12.4797  12.4797   0.974686  25887193.0\n",
      "...          ...      ...      ...      ...      ...        ...         ...\n",
      "5999  2020-04-17  15.2460  15.2900  14.6960  14.9240  14.924000  12637783.0\n",
      "6000  2020-04-20  15.4200  15.4200  14.7840  14.9100  14.910000   6421800.0\n",
      "6001  2020-04-21  14.7000  14.9640  14.4400  14.6820  14.682000   8158701.0\n",
      "6002  2020-04-22  14.8600  14.8940  14.5320  14.7340  14.734000   5607527.0\n",
      "6003  2020-04-23  14.8420  15.0160  14.5660  14.7600  14.760000   5999957.0\n",
      "\n",
      "[6004 rows x 7 columns]\n",
      "None\n",
      "EURUSD=X.csv.txt \n",
      "             Date      Open      High       Low     Close  Adj Close  Volume\n",
      "0     2003-12-01  1.203398  1.204007  1.194401  1.196501   1.196501     0.0\n",
      "1     2003-12-02  1.196101  1.210903  1.194600  1.208897   1.208897     0.0\n",
      "2     2003-12-03  1.209000  1.213003  1.207700  1.212298   1.212298     0.0\n",
      "3     2003-12-04  1.212004  1.214403  1.204398  1.208094   1.208094     0.0\n",
      "4     2003-12-05  1.207802  1.219096  1.206593  1.218695   1.218695     0.0\n",
      "...          ...       ...       ...       ...       ...        ...     ...\n",
      "4275  2020-04-20  1.086626  1.089704  1.084305  1.086697   1.086697     0.0\n",
      "4276  2020-04-21  1.086354  1.087997  1.081795  1.086484   1.086484     0.0\n",
      "4277  2020-04-22  1.085741  1.088317  1.082427  1.085647   1.085647     0.0\n",
      "4278  2020-04-23  1.080684  1.084399  1.075836  1.080964   1.080964     0.0\n",
      "4279  2020-04-24  1.078167  1.080497  1.073192  1.079564   1.079564     0.0\n",
      "\n",
      "[4280 rows x 7 columns]\n",
      "None\n",
      "^FCHI.txt \n",
      "             Date         Open         High          Low        Close  \\\n",
      "0     1997-01-02  2305.899902  2305.899902  2251.500000  2257.000000   \n",
      "1     1997-01-03  2265.600098  2285.500000  2259.500000  2282.800049   \n",
      "2     1997-01-06  2309.899902  2309.899902  2294.800049  2306.699951   \n",
      "3     1997-01-07  2301.399902  2315.300049  2294.000000  2301.699951   \n",
      "4     1997-01-08  2316.199951  2333.199951  2315.600098  2331.600098   \n",
      "...          ...          ...          ...          ...          ...   \n",
      "5999  2020-04-17  4470.919922  4550.779785  4464.089844  4499.009766   \n",
      "6000  2020-04-20  4531.339844  4531.339844  4426.240234  4528.299805   \n",
      "6001  2020-04-21  4467.490234  4477.310059  4357.459961  4357.459961   \n",
      "6002  2020-04-22  4382.200195  4417.569824  4361.439941  4411.799805   \n",
      "6003  2020-04-23  4450.189941  4495.899902  4395.750000  4451.000000   \n",
      "\n",
      "        Adj Close       Volume  \n",
      "0     2257.000000          0.0  \n",
      "1     2282.800049          0.0  \n",
      "2     2306.699951          0.0  \n",
      "3     2301.699951          0.0  \n",
      "4     2331.600098          0.0  \n",
      "...           ...          ...  \n",
      "5999  4499.009766  134393000.0  \n",
      "6000  4528.299805   79833400.0  \n",
      "6001  4357.459961   98896700.0  \n",
      "6002  4411.799805   84195800.0  \n",
      "6003  4451.000000   90083500.0  \n",
      "\n",
      "[6004 rows x 7 columns]\n",
      "None\n"
     ]
    },
    {
     "data": {
      "text/plain": [
       "['C:\\\\Users\\\\Hp\\\\OneDrive\\\\Documents\\\\Fred\\\\Python\\\\Data_Import\\\\AXA_SA_CS.PA.csv.txt',\n",
       " 'C:\\\\Users\\\\Hp\\\\OneDrive\\\\Documents\\\\Fred\\\\Python\\\\Data_Import\\\\EURUSD=X.csv.txt',\n",
       " 'C:\\\\Users\\\\Hp\\\\OneDrive\\\\Documents\\\\Fred\\\\Python\\\\Data_Import\\\\^FCHI.txt']"
      ]
     },
     "execution_count": 54,
     "metadata": {},
     "output_type": "execute_result"
    }
   ],
   "source": [
    "import os\n",
    "import pandas as pd\n",
    "#import os.path\n",
    "\n",
    "def listdirectory(path): \n",
    "\n",
    "    fichier=[] \n",
    "    f=[]\n",
    "      \n",
    "    for root, dirs, files in os.walk(path): \n",
    "         \n",
    "            for i in files: \n",
    "       \n",
    "                Path_file=os.path.join(root, i)\n",
    "                \n",
    "                f=pd.read_csv(Path_file)\n",
    "                f=pd.DataFrame(f)\n",
    "                Conso=print(i, \"\\n\", pd.DataFrame(f))\n",
    "                print (Conso)\n",
    "\n",
    "                fichier.append(os.path.join(root, i)) \n",
    "                final_frame=pd.concat([f],axis=0)\n",
    "\n",
    "                #nb_rows=len(fichier.axes(0))\n",
    "                #nb_columns=len(f.axes(1))\n",
    "                \n",
    "                #print('There are %s lines' % rows(nb_rows))\n",
    "                #print('There are %s files' % len(files)) \n",
    "                \n",
    "    return fichier\n",
    "# nb of files in the folders\n",
    "\n",
    "#print (final_frame)\n",
    "#Save file\n",
    "#chemin=r\"C:\\Users\\Hp\\OneDrive\\Documents\\Fred\\Python\\Data_Import\\Conso.csv\"\n",
    "#Conso.to_csv(chemin, decimal=\",\", index=False) \n",
    "\n",
    "\n",
    "listdirectory(r\"C:\\Users\\Hp\\OneDrive\\Documents\\Fred\\Python\\Data_Import\")\n",
    "  "
   ]
  },
  {
   "cell_type": "code",
   "execution_count": 43,
   "metadata": {},
   "outputs": [
    {
     "ename": "IndentationError",
     "evalue": "unindent does not match any outer indentation level (<tokenize>, line 24)",
     "output_type": "error",
     "traceback": [
      "\u001b[1;36m  File \u001b[1;32m\"<tokenize>\"\u001b[1;36m, line \u001b[1;32m24\u001b[0m\n\u001b[1;33m    return fichier\u001b[0m\n\u001b[1;37m    ^\u001b[0m\n\u001b[1;31mIndentationError\u001b[0m\u001b[1;31m:\u001b[0m unindent does not match any outer indentation level\n"
     ]
    }
   ],
   "source": [
    "import os\n",
    "import pandas as pd\n",
    "#import os.path\n",
    "\n",
    "def listdirectory(path): \n",
    "\n",
    "    fichier=[] \n",
    "    f=[]\n",
    "      \n",
    "    for root, dirs, files in os.walk(path): \n",
    "         \n",
    "            for i in files: \n",
    "       \n",
    "                Path_file=os.path.join(root, i)\n",
    "                \n",
    "                f=pd.read_csv(Path_file)\n",
    "                f=pd.DataFrame(f)\n",
    "                Conso=print(i, \"\\n\", pd.DataFrame(f))\n",
    "                print (Conso)\n",
    "\n",
    "                fichier.append(os.path.join(root, i)) \n",
    "                final_frame=pd.concat([f],axis=1)                  \n",
    "\n",
    "        return fichier\n",
    "    \n",
    "#fichier_Final=pd.DataFrame(fichier)\n",
    "#f.to_csv(r\"C:\\Users\\Hp\\OneDrive\\Documents\\Fred\\Python\\ConsoFile.csv\")\n",
    "fichier_Final.to_csv('ConsoFile.csv')\n",
    "\n",
    "listdirectory(r\"C:\\Users\\Hp\\OneDrive\\Documents\\Fred\\Python\\Data_Import\")\n",
    "  "
   ]
  },
  {
   "cell_type": "code",
   "execution_count": 14,
   "metadata": {},
   "outputs": [
    {
     "ename": "IndentationError",
     "evalue": "unexpected indent (<ipython-input-14-0398353ce519>, line 15)",
     "output_type": "error",
     "traceback": [
      "\u001b[1;36m  File \u001b[1;32m\"<ipython-input-14-0398353ce519>\"\u001b[1;36m, line \u001b[1;32m15\u001b[0m\n\u001b[1;33m    for i in files:\u001b[0m\n\u001b[1;37m    ^\u001b[0m\n\u001b[1;31mIndentationError\u001b[0m\u001b[1;31m:\u001b[0m unexpected indent\n"
     ]
    }
   ],
   "source": [
    "import os\n",
    "import pandas as pd\n",
    "#import os.path\n",
    "\n",
    "def listdirectory(path): \n",
    "\n",
    "    fichier=[] \n",
    "    read_data=[]\n",
    "    \n",
    "    for root, dirs, files in os.walk(path): \n",
    "       \n",
    "    # nb of files in the folders\n",
    "        nb_files=len(files)\n",
    "       \n",
    "          for i in files: \n",
    "                   \n",
    "          #   with open(os.path.join(root, i)) as f:\n",
    "                fichier.append(os.path.join(root, i)) \n",
    "       #        read_data=fichier.read(os.path.join(root, i))\n",
    "    #        Conso_File.closed\n",
    "       #         print (read_data)\n",
    "                #for line in Conso_File\n",
    "                    \n",
    "        #    fichier.open(os.path.join(root, i)) \n",
    "    return fichier\n",
    "    # return read_data\n",
    "\n",
    "listdirectory(r\"C:\\Users\\Hp\\OneDrive\\Documents\\Fred\\Python\\Data_Import\")\n",
    "    \n",
    "    #with open(Path + i, 'r') as f:\n",
    "    #            if i in f\n",
    "    #        pd.read_csv(r\"%s\" % os.path.join(root, i))\n",
    "            "
   ]
  },
  {
   "cell_type": "code",
   "execution_count": null,
   "metadata": {},
   "outputs": [],
   "source": []
  }
 ],
 "metadata": {
  "kernelspec": {
   "display_name": "Python 3",
   "language": "python",
   "name": "python3"
  },
  "language_info": {
   "codemirror_mode": {
    "name": "ipython",
    "version": 3
   },
   "file_extension": ".py",
   "mimetype": "text/x-python",
   "name": "python",
   "nbconvert_exporter": "python",
   "pygments_lexer": "ipython3",
   "version": "3.7.6"
  }
 },
 "nbformat": 4,
 "nbformat_minor": 4
}
